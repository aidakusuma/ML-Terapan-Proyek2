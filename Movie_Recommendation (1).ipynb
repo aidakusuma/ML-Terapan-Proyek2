{
  "nbformat": 4,
  "nbformat_minor": 0,
  "metadata": {
    "colab": {
      "provenance": []
    },
    "kernelspec": {
      "name": "python3",
      "display_name": "Python 3"
    },
    "language_info": {
      "name": "python"
    }
  },
  "cells": [
    {
      "cell_type": "code",
      "execution_count": 18,
      "metadata": {
        "id": "iLctKwLb-0Ul"
      },
      "outputs": [],
      "source": [
        "import pandas as pd\n",
        "import numpy as np\n",
        "import seaborn as sns\n",
        "import matplotlib.pyplot as plt\n",
        "from sklearn.metrics.pairwise import cosine_similarity\n",
        "from sklearn.preprocessing import LabelEncoder\n",
        "from sklearn.metrics import mean_squared_error, mean_absolute_error, precision_score, recall_score\n",
        "from tensorflow.keras import layers\n",
        "import tensorflow as tf"
      ]
    },
    {
      "cell_type": "markdown",
      "source": [
        "import semua library yang dibutuhkan"
      ],
      "metadata": {
        "id": "m-ZqYnTZ_HZy"
      }
    },
    {
      "cell_type": "code",
      "source": [
        "pip install kagglehub\n"
      ],
      "metadata": {
        "colab": {
          "base_uri": "https://localhost:8080/"
        },
        "id": "LcTkeLuf-9rI",
        "outputId": "06a397ec-de07-4c8d-8aba-82cfc529bf3d"
      },
      "execution_count": 19,
      "outputs": [
        {
          "output_type": "stream",
          "name": "stdout",
          "text": [
            "Requirement already satisfied: kagglehub in /usr/local/lib/python3.10/dist-packages (0.3.4)\n",
            "Requirement already satisfied: packaging in /usr/local/lib/python3.10/dist-packages (from kagglehub) (24.2)\n",
            "Requirement already satisfied: requests in /usr/local/lib/python3.10/dist-packages (from kagglehub) (2.32.3)\n",
            "Requirement already satisfied: tqdm in /usr/local/lib/python3.10/dist-packages (from kagglehub) (4.66.6)\n",
            "Requirement already satisfied: charset-normalizer<4,>=2 in /usr/local/lib/python3.10/dist-packages (from requests->kagglehub) (3.4.0)\n",
            "Requirement already satisfied: idna<4,>=2.5 in /usr/local/lib/python3.10/dist-packages (from requests->kagglehub) (3.10)\n",
            "Requirement already satisfied: urllib3<3,>=1.21.1 in /usr/local/lib/python3.10/dist-packages (from requests->kagglehub) (2.2.3)\n",
            "Requirement already satisfied: certifi>=2017.4.17 in /usr/local/lib/python3.10/dist-packages (from requests->kagglehub) (2024.8.30)\n"
          ]
        }
      ]
    },
    {
      "cell_type": "code",
      "source": [
        "pip install kaggle"
      ],
      "metadata": {
        "colab": {
          "base_uri": "https://localhost:8080/"
        },
        "id": "fhkoQEqS_1GP",
        "outputId": "12a780a9-4d67-4df5-83a9-89705454a308"
      },
      "execution_count": 20,
      "outputs": [
        {
          "output_type": "stream",
          "name": "stdout",
          "text": [
            "Requirement already satisfied: kaggle in /usr/local/lib/python3.10/dist-packages (1.6.17)\n",
            "Requirement already satisfied: six>=1.10 in /usr/local/lib/python3.10/dist-packages (from kaggle) (1.16.0)\n",
            "Requirement already satisfied: certifi>=2023.7.22 in /usr/local/lib/python3.10/dist-packages (from kaggle) (2024.8.30)\n",
            "Requirement already satisfied: python-dateutil in /usr/local/lib/python3.10/dist-packages (from kaggle) (2.8.2)\n",
            "Requirement already satisfied: requests in /usr/local/lib/python3.10/dist-packages (from kaggle) (2.32.3)\n",
            "Requirement already satisfied: tqdm in /usr/local/lib/python3.10/dist-packages (from kaggle) (4.66.6)\n",
            "Requirement already satisfied: python-slugify in /usr/local/lib/python3.10/dist-packages (from kaggle) (8.0.4)\n",
            "Requirement already satisfied: urllib3 in /usr/local/lib/python3.10/dist-packages (from kaggle) (2.2.3)\n",
            "Requirement already satisfied: bleach in /usr/local/lib/python3.10/dist-packages (from kaggle) (6.2.0)\n",
            "Requirement already satisfied: webencodings in /usr/local/lib/python3.10/dist-packages (from bleach->kaggle) (0.5.1)\n",
            "Requirement already satisfied: text-unidecode>=1.3 in /usr/local/lib/python3.10/dist-packages (from python-slugify->kaggle) (1.3)\n",
            "Requirement already satisfied: charset-normalizer<4,>=2 in /usr/local/lib/python3.10/dist-packages (from requests->kaggle) (3.4.0)\n",
            "Requirement already satisfied: idna<4,>=2.5 in /usr/local/lib/python3.10/dist-packages (from requests->kaggle) (3.10)\n"
          ]
        }
      ]
    },
    {
      "cell_type": "markdown",
      "source": [
        "install kagglehub agar bisa memuat data dari kaggle, karena disini saya menggunakan data dari kaggle"
      ],
      "metadata": {
        "id": "2ZRPnAJ-_JIy"
      }
    },
    {
      "cell_type": "code",
      "source": [
        "import kagglehub\n",
        "import pandas as pd\n",
        "import os\n",
        "\n",
        "# Download dataset\n",
        "path = kagglehub.dataset_download(\"dev0914sharma/dataset\")\n",
        "print(\"Path to dataset files:\", path)\n",
        "\n",
        "# Load Dataset.csv\n",
        "csv_path_dataset = os.path.join(path, 'Dataset.csv')\n",
        "df = pd.read_csv(csv_path_dataset)\n",
        "\n",
        "# Load Movie_Id_Titles.csv\n",
        "csv_path_titles = os.path.join(path, 'Movie_Id_Titles.csv')\n",
        "titles = pd.read_csv(csv_path_titles)\n",
        "\n",
        "# Informasi Dataset.csv\n",
        "print(\"\\nInformasi Dataset.csv:\")\n",
        "print(\"Jumlah Baris (Data):\", len(df))\n",
        "print(\"Jumlah Kolom (Fitur):\", len(df.columns))\n",
        "print(\"\\nInfo Detil Dataset.csv:\")\n",
        "print(df.info())\n",
        "\n",
        "# Informasi Movie_Id_Titles.csv\n",
        "print(\"\\nInformasi Movie_Id_Titles.csv:\")\n",
        "print(\"Jumlah Baris (Data):\", len(titles))\n",
        "print(\"Jumlah Kolom (Fitur):\", len(titles.columns))\n",
        "print(\"\\nInfo Detil Movie_Id_Titles.csv:\")\n",
        "print(titles.info())\n"
      ],
      "metadata": {
        "colab": {
          "base_uri": "https://localhost:8080/"
        },
        "id": "3da3GIRt_L0s",
        "outputId": "abbcb2ce-598f-4529-b295-15a3d47d4a67"
      },
      "execution_count": 21,
      "outputs": [
        {
          "output_type": "stream",
          "name": "stdout",
          "text": [
            "Path to dataset files: /root/.cache/kagglehub/datasets/dev0914sharma/dataset/versions/1\n",
            "\n",
            "Informasi Dataset.csv:\n",
            "Jumlah Baris (Data): 100003\n",
            "Jumlah Kolom (Fitur): 4\n",
            "\n",
            "Info Detil Dataset.csv:\n",
            "<class 'pandas.core.frame.DataFrame'>\n",
            "RangeIndex: 100003 entries, 0 to 100002\n",
            "Data columns (total 4 columns):\n",
            " #   Column     Non-Null Count   Dtype\n",
            "---  ------     --------------   -----\n",
            " 0   user_id    100003 non-null  int64\n",
            " 1   item_id    100003 non-null  int64\n",
            " 2   rating     100003 non-null  int64\n",
            " 3   timestamp  100003 non-null  int64\n",
            "dtypes: int64(4)\n",
            "memory usage: 3.1 MB\n",
            "None\n",
            "\n",
            "Informasi Movie_Id_Titles.csv:\n",
            "Jumlah Baris (Data): 1682\n",
            "Jumlah Kolom (Fitur): 2\n",
            "\n",
            "Info Detil Movie_Id_Titles.csv:\n",
            "<class 'pandas.core.frame.DataFrame'>\n",
            "RangeIndex: 1682 entries, 0 to 1681\n",
            "Data columns (total 2 columns):\n",
            " #   Column   Non-Null Count  Dtype \n",
            "---  ------   --------------  ----- \n",
            " 0   item_id  1682 non-null   int64 \n",
            " 1   title    1682 non-null   object\n",
            "dtypes: int64(1), object(1)\n",
            "memory usage: 26.4+ KB\n",
            "None\n"
          ]
        }
      ]
    },
    {
      "cell_type": "markdown",
      "source": [
        "melihat dan mengecek tipe data yang akan digunakan"
      ],
      "metadata": {
        "id": "xToypcvcDofl"
      }
    },
    {
      "cell_type": "markdown",
      "source": [
        "#data preparation"
      ],
      "metadata": {
        "id": "Q5egVdN4GQsf"
      }
    },
    {
      "cell_type": "code",
      "source": [
        "# Gabungkan Dataset.csv dan Movie_Id_Titles.csv\n",
        "data = pd.merge(df, titles, on='item_id', how='inner')\n",
        "\n",
        "# Informasi Data Gabungan\n",
        "print(\"\\nInformasi Data Gabungan:\")\n",
        "print(\"Jumlah Baris (Data):\", len(data))\n",
        "print(\"Jumlah Kolom (Fitur):\", len(data.columns))\n",
        "print(\"\\nInfo Detil Data Gabungan:\")\n",
        "print(data.info())\n",
        "\n",
        "# Menampilkan data gabungan\n",
        "print(\"\\nData Gabungan (5 Baris Pertama):\")\n",
        "print(data.head())"
      ],
      "metadata": {
        "colab": {
          "base_uri": "https://localhost:8080/"
        },
        "id": "D6UFmZ1DRZs4",
        "outputId": "5415b56e-40f9-4213-86c6-e93882309ea0"
      },
      "execution_count": 22,
      "outputs": [
        {
          "output_type": "stream",
          "name": "stdout",
          "text": [
            "\n",
            "Informasi Data Gabungan:\n",
            "Jumlah Baris (Data): 100003\n",
            "Jumlah Kolom (Fitur): 5\n",
            "\n",
            "Info Detil Data Gabungan:\n",
            "<class 'pandas.core.frame.DataFrame'>\n",
            "RangeIndex: 100003 entries, 0 to 100002\n",
            "Data columns (total 5 columns):\n",
            " #   Column     Non-Null Count   Dtype \n",
            "---  ------     --------------   ----- \n",
            " 0   user_id    100003 non-null  int64 \n",
            " 1   item_id    100003 non-null  int64 \n",
            " 2   rating     100003 non-null  int64 \n",
            " 3   timestamp  100003 non-null  int64 \n",
            " 4   title      100003 non-null  object\n",
            "dtypes: int64(4), object(1)\n",
            "memory usage: 3.8+ MB\n",
            "None\n",
            "\n",
            "Data Gabungan (5 Baris Pertama):\n",
            "   user_id  item_id  rating  timestamp                            title\n",
            "0        0       50       5  881250949                 Star Wars (1977)\n",
            "1        0      172       5  881250949  Empire Strikes Back, The (1980)\n",
            "2        0      133       1  881250949        Gone with the Wind (1939)\n",
            "3      196      242       3  881250949                     Kolya (1996)\n",
            "4      186      302       3  891717742         L.A. Confidential (1997)\n"
          ]
        }
      ]
    },
    {
      "cell_type": "markdown",
      "source": [
        "merged data yang ada pada Movie_Id_Titles.csv dengan Dataset.csv untuk memudahkan proses analisis dan evaluasi"
      ],
      "metadata": {
        "id": "4mNGJ_vcSAXn"
      }
    },
    {
      "cell_type": "code",
      "source": [
        "# Memeriksa missing values\n",
        "print(data.isnull().sum())\n",
        "\n",
        "# Fungsi remove_outliers dengan sedikit modifikasi\n",
        "def remove_outliers(df, columns):\n",
        "    df_clean = df.copy()\n",
        "    removed_rows = []\n",
        "    for col in columns:\n",
        "        Q1 = df_clean[col].quantile(0.25)\n",
        "        Q3 = df_clean[col].quantile(0.75)\n",
        "        IQR = Q3 - Q1\n",
        "        lower_bound = Q1 - 1.5 * IQR\n",
        "        upper_bound = Q3 + 1.5 * IQR\n",
        "\n",
        "        # Simpan baris yang akan dihapus\n",
        "        outlier_rows = df_clean[(df_clean[col] < lower_bound) | (df_clean[col] > upper_bound)].index\n",
        "        removed_rows.extend(outlier_rows)\n",
        "\n",
        "    # Hapus baris outlier\n",
        "    df_clean = df_clean.drop(index=list(set(removed_rows)))\n",
        "    return df_clean\n",
        "\n",
        "# Kolom numerik yang akan diperiksa untuk outlier (kecuali rating)\n",
        "numeric_columns = ['user_id', 'item_id', 'timestamp']\n",
        "\n",
        "# Menampilkan jumlah baris sebelum menghapus outlier\n",
        "print(f\"Jumlah baris sebelum menghapus outlier: {len(data)}\")\n",
        "\n",
        "# Menghapus outlier\n",
        "data_clean = remove_outliers(data, numeric_columns)\n",
        "\n",
        "# Menampilkan jumlah baris setelah menghapus outlier\n",
        "print(f\"Jumlah baris setelah menghapus outlier: {len(data_clean)}\")\n",
        "\n",
        "# Menampilkan persentase data yang dihapus\n",
        "percent_removed = ((len(data) - len(data_clean)) / len(data)) * 100\n",
        "print(f\"Persentase data yang dihapus: {percent_removed:.2f}%\")"
      ],
      "metadata": {
        "colab": {
          "base_uri": "https://localhost:8080/"
        },
        "id": "1tXgqtPnFeTV",
        "outputId": "55ab8c41-9963-4a5b-8cce-3046c05d14d3"
      },
      "execution_count": 23,
      "outputs": [
        {
          "output_type": "stream",
          "name": "stdout",
          "text": [
            "user_id      0\n",
            "item_id      0\n",
            "rating       0\n",
            "timestamp    0\n",
            "title        0\n",
            "dtype: int64\n",
            "Jumlah baris sebelum menghapus outlier: 100003\n",
            "Jumlah baris setelah menghapus outlier: 98654\n",
            "Persentase data yang dihapus: 1.35%\n"
          ]
        }
      ]
    },
    {
      "cell_type": "markdown",
      "source": [
        "Kode ini dirancang untuk membersihkan dataset dengan:\n",
        "1. Memeriksa missing values.\n",
        "2. Mengidentifikasi dan menghapus outlier menggunakan metode IQR."
      ],
      "metadata": {
        "id": "Y0d8zlE9KFLr"
      }
    },
    {
      "cell_type": "code",
      "source": [
        "# Mengubah `user_id` menjadi list tanpa nilai yang sama\n",
        "user_ids = data['user_id'].unique().tolist()\n",
        "user_to_user_encoded = {x: i for i, x in enumerate(user_ids)}\n",
        "user_encoded_to_user = {i: x for i, x in enumerate(user_ids)}\n",
        "\n",
        "# Mengubah `item_id` menjadi list tanpa nilai yang sama\n",
        "item_ids = data['item_id'].unique().tolist()\n",
        "item_to_item_encoded = {x: i for i, x in enumerate(item_ids)}\n",
        "item_encoded_to_item = {i: x for i, x in enumerate(item_ids)}"
      ],
      "metadata": {
        "id": "1n9F2SigEzjO"
      },
      "execution_count": 24,
      "outputs": []
    },
    {
      "cell_type": "markdown",
      "source": [
        "Kode ini digunakan untuk encoding kolom user_id dan item_id menjadi bentuk numerik agar dapat digunakan dalam model machine learning, khususnya model rekomendasi.\n",
        "dengan cara\n",
        "1. menghilangkan dulikasi\n",
        "2. Membuat Mapping Encoding"
      ],
      "metadata": {
        "id": "5IILMjRWKOsE"
      }
    },
    {
      "cell_type": "code",
      "source": [
        "# Mapping user_id dan item_id ke data gabungan\n",
        "data['user'] = data['user_id'].map(user_to_user_encoded)\n",
        "data['item'] = data['item_id'].map(item_to_item_encoded)\n",
        "\n",
        "# Informasi dataset\n",
        "num_users = len(user_to_user_encoded)\n",
        "num_items = len(item_encoded_to_item)\n",
        "\n",
        "# Mengubah rating menjadi float dan menghitung nilai min/max\n",
        "data['rating'] = data['rating'].values.astype(np.float32)\n",
        "min_rating = data['rating'].min()\n",
        "max_rating = data['rating'].max()"
      ],
      "metadata": {
        "id": "SBhqk19Ae78T"
      },
      "execution_count": 25,
      "outputs": []
    },
    {
      "cell_type": "code",
      "source": [
        "# Normalisasi rating\n",
        "data['normalized_rating'] = data['rating'].apply(lambda x: (x - min_rating) / (max_rating - min_rating))\n",
        "\n",
        "# Membagi data menjadi train dan validasi (80:20)\n",
        "data = data.sample(frac=1, random_state=42)  # Mengacak dataset\n",
        "x = data[['user', 'item']].values\n",
        "y = data['normalized_rating'].values\n",
        "\n",
        "train_indices = int(0.8 * data.shape[0])\n",
        "x_train, x_val = x[:train_indices], x[train_indices:]\n",
        "y_train, y_val = y[:train_indices], y[train_indices:]"
      ],
      "metadata": {
        "id": "3wDoW0UdE7AM"
      },
      "execution_count": 26,
      "outputs": []
    },
    {
      "cell_type": "markdown",
      "source": [
        "1. Normalisasi Rating: Mengubah rating asli ke rentang 0 hingga 1 agar lebih konsisten.\n",
        "2. Pengacakan Data: Mengacak urutan data untuk memastikan pembagian data yang tidak bias.\n",
        "3. Pembagian Data: Membagi data menjadi dua set: pelatihan (80%) dan validasi (20%) untuk melatih dan mengevaluasi model."
      ],
      "metadata": {
        "id": "_6BWdfpyKz37"
      }
    },
    {
      "cell_type": "markdown",
      "source": [
        "#Modelling"
      ],
      "metadata": {
        "id": "NrO0oW2UobMm"
      }
    },
    {
      "cell_type": "code",
      "source": [
        "# Membuat model rekomendasi\n",
        "class RecommenderNet(tf.keras.Model):\n",
        "    def __init__(self, num_users, num_items, embedding_size, **kwargs):\n",
        "        super(RecommenderNet, self).__init__(**kwargs)\n",
        "        self.user_embedding = layers.Embedding(\n",
        "            num_users, embedding_size, embeddings_initializer=\"he_normal\", embeddings_regularizer=tf.keras.regularizers.l2(1e-6))\n",
        "        self.user_bias = layers.Embedding(num_users, 1)\n",
        "        self.item_embedding = layers.Embedding(\n",
        "            num_items, embedding_size, embeddings_initializer=\"he_normal\", embeddings_regularizer=tf.keras.regularizers.l2(1e-6))\n",
        "        self.item_bias = layers.Embedding(num_items, 1)\n",
        "\n",
        "    def call(self, inputs):\n",
        "        user_vector = self.user_embedding(inputs[:, 0])\n",
        "        user_bias = self.user_bias(inputs[:, 0])\n",
        "        item_vector = self.item_embedding(inputs[:, 1])\n",
        "        item_bias = self.item_bias(inputs[:, 1])\n",
        "\n",
        "        dot_user_item = tf.tensordot(user_vector, item_vector, axes=2)\n",
        "        x = dot_user_item + user_bias + item_bias\n",
        "        return tf.nn.sigmoid(x)"
      ],
      "metadata": {
        "id": "Io6TBv6HE9VE"
      },
      "execution_count": 27,
      "outputs": []
    },
    {
      "cell_type": "markdown",
      "source": [
        "Membuat model machine learning Collaborative Filtering berbasis Matrix Factorization dengan teknik embedding"
      ],
      "metadata": {
        "id": "olUULRQHLFoQ"
      }
    },
    {
      "cell_type": "code",
      "source": [
        "# Inisialisasi dan kompilasi model\n",
        "model = RecommenderNet(num_users, num_items, embedding_size=50)\n",
        "model.compile(\n",
        "    loss=tf.keras.losses.BinaryCrossentropy(),\n",
        "    optimizer=tf.keras.optimizers.Adam(learning_rate=0.001),\n",
        "    metrics=[tf.keras.metrics.RootMeanSquaredError()],\n",
        ")"
      ],
      "metadata": {
        "id": "4eW9nwj5FH0K"
      },
      "execution_count": 28,
      "outputs": []
    },
    {
      "cell_type": "markdown",
      "source": [
        "inisialisasi dan kompilasi model untuk model RecommenderNet yang telah dibuat sebelumnya"
      ],
      "metadata": {
        "id": "WDGx4vJjLSnX"
      }
    },
    {
      "cell_type": "code",
      "source": [
        "# Melatih model\n",
        "history = model.fit(\n",
        "    x=x_train,\n",
        "    y=y_train,\n",
        "    batch_size=64,\n",
        "    epochs=10,\n",
        "    validation_data=(x_val, y_val),\n",
        ")"
      ],
      "metadata": {
        "colab": {
          "base_uri": "https://localhost:8080/"
        },
        "id": "xvLpBU26FNyU",
        "outputId": "f960bc3c-5abc-4860-eb1f-9e8afd500fdb"
      },
      "execution_count": 29,
      "outputs": [
        {
          "output_type": "stream",
          "name": "stdout",
          "text": [
            "Epoch 1/10\n",
            "\u001b[1m1251/1251\u001b[0m \u001b[32m━━━━━━━━━━━━━━━━━━━━\u001b[0m\u001b[37m\u001b[0m \u001b[1m10s\u001b[0m 6ms/step - loss: 0.6697 - root_mean_squared_error: 0.2921 - val_loss: 0.6359 - val_root_mean_squared_error: 0.2619\n",
            "Epoch 2/10\n",
            "\u001b[1m1251/1251\u001b[0m \u001b[32m━━━━━━━━━━━━━━━━━━━━\u001b[0m\u001b[37m\u001b[0m \u001b[1m5s\u001b[0m 4ms/step - loss: 0.6326 - root_mean_squared_error: 0.2603 - val_loss: 0.6280 - val_root_mean_squared_error: 0.2545\n",
            "Epoch 3/10\n",
            "\u001b[1m1251/1251\u001b[0m \u001b[32m━━━━━━━━━━━━━━━━━━━━\u001b[0m\u001b[37m\u001b[0m \u001b[1m7s\u001b[0m 6ms/step - loss: 0.6220 - root_mean_squared_error: 0.2507 - val_loss: 0.6206 - val_root_mean_squared_error: 0.2481\n",
            "Epoch 4/10\n",
            "\u001b[1m1251/1251\u001b[0m \u001b[32m━━━━━━━━━━━━━━━━━━━━\u001b[0m\u001b[37m\u001b[0m \u001b[1m6s\u001b[0m 5ms/step - loss: 0.6195 - root_mean_squared_error: 0.2480 - val_loss: 0.6208 - val_root_mean_squared_error: 0.2485\n",
            "Epoch 5/10\n",
            "\u001b[1m1251/1251\u001b[0m \u001b[32m━━━━━━━━━━━━━━━━━━━━\u001b[0m\u001b[37m\u001b[0m \u001b[1m11s\u001b[0m 5ms/step - loss: 0.6169 - root_mean_squared_error: 0.2462 - val_loss: 0.6180 - val_root_mean_squared_error: 0.2460\n",
            "Epoch 6/10\n",
            "\u001b[1m1251/1251\u001b[0m \u001b[32m━━━━━━━━━━━━━━━━━━━━\u001b[0m\u001b[37m\u001b[0m \u001b[1m6s\u001b[0m 4ms/step - loss: 0.6173 - root_mean_squared_error: 0.2459 - val_loss: 0.6171 - val_root_mean_squared_error: 0.2453\n",
            "Epoch 7/10\n",
            "\u001b[1m1251/1251\u001b[0m \u001b[32m━━━━━━━━━━━━━━━━━━━━\u001b[0m\u001b[37m\u001b[0m \u001b[1m5s\u001b[0m 4ms/step - loss: 0.6150 - root_mean_squared_error: 0.2445 - val_loss: 0.6190 - val_root_mean_squared_error: 0.2470\n",
            "Epoch 8/10\n",
            "\u001b[1m1251/1251\u001b[0m \u001b[32m━━━━━━━━━━━━━━━━━━━━\u001b[0m\u001b[37m\u001b[0m \u001b[1m3s\u001b[0m 2ms/step - loss: 0.6163 - root_mean_squared_error: 0.2457 - val_loss: 0.6181 - val_root_mean_squared_error: 0.2462\n",
            "Epoch 9/10\n",
            "\u001b[1m1251/1251\u001b[0m \u001b[32m━━━━━━━━━━━━━━━━━━━━\u001b[0m\u001b[37m\u001b[0m \u001b[1m5s\u001b[0m 3ms/step - loss: 0.6153 - root_mean_squared_error: 0.2438 - val_loss: 0.6204 - val_root_mean_squared_error: 0.2483\n",
            "Epoch 10/10\n",
            "\u001b[1m1251/1251\u001b[0m \u001b[32m━━━━━━━━━━━━━━━━━━━━\u001b[0m\u001b[37m\u001b[0m \u001b[1m6s\u001b[0m 3ms/step - loss: 0.6156 - root_mean_squared_error: 0.2453 - val_loss: 0.6183 - val_root_mean_squared_error: 0.2464\n"
          ]
        }
      ]
    },
    {
      "cell_type": "markdown",
      "source": [
        "melatih model"
      ],
      "metadata": {
        "id": "uZNqX8CdLVoU"
      }
    },
    {
      "cell_type": "code",
      "source": [
        "# Evaluasi metrik tambahan\n",
        "y_pred = model.predict(x_val).flatten()\n",
        "y_pred_binary = np.where(y_pred >= 0.5, 1, 0)\n",
        "y_val_binary = np.where(y_val >= 0.5, 1, 0)\n",
        "\n",
        "# Menghitung RMSE (Root Mean Squared Error)\n",
        "rmse = np.sqrt(np.mean((y_val - y_pred) ** 2))\n",
        "\n",
        "# Menghitung MAE (Mean Absolute Error)\n",
        "mae = mean_absolute_error(y_val, y_pred)\n",
        "\n",
        "# Menghitung Precision dan Recall\n",
        "precision = precision_score(y_val_binary, y_pred_binary, zero_division=0)\n",
        "recall = recall_score(y_val_binary, y_pred_binary, zero_division=0)\n",
        "\n",
        "# Menampilkan metrik\n",
        "print(f\"RMSE: {rmse:.4f}\")\n",
        "print(f\"MAE: {mae:.4f}\")\n",
        "print(f\"Precision: {precision:.4f}\")\n",
        "print(f\"Recall: {recall:.4f}\")\n",
        "\n",
        "# Visualisasi metrik RMSE selama pelatihan\n",
        "plt.plot(history.history['root_mean_squared_error'])\n",
        "plt.plot(history.history['val_root_mean_squared_error'])\n",
        "plt.title('Model Metrics')\n",
        "plt.ylabel('RMSE')\n",
        "plt.xlabel('Epoch')\n",
        "plt.legend(['Train', 'Validation'], loc='upper left')\n",
        "plt.show()\n"
      ],
      "metadata": {
        "colab": {
          "base_uri": "https://localhost:8080/",
          "height": 559
        },
        "id": "romKbRLhedR9",
        "outputId": "68f140d3-7015-4a9a-e83d-741f43f9d81c"
      },
      "execution_count": 30,
      "outputs": [
        {
          "output_type": "stream",
          "name": "stdout",
          "text": [
            "\u001b[1m626/626\u001b[0m \u001b[32m━━━━━━━━━━━━━━━━━━━━\u001b[0m\u001b[37m\u001b[0m \u001b[1m1s\u001b[0m 1ms/step\n",
            "RMSE: 0.2443\n",
            "MAE: 0.1967\n",
            "Precision: 0.9080\n",
            "Recall: 0.7751\n"
          ]
        },
        {
          "output_type": "display_data",
          "data": {
            "text/plain": [
              "<Figure size 640x480 with 1 Axes>"
            ],
            "image/png": "[encoded data removed]"
          },
          "metadata": {}
        }
      ]
    },
    {
      "cell_type": "markdown",
      "source": [
        "Kode ini digunakan untuk mengukur performa model rekomendasi menggunakan beberapa metrik: RMSE untuk mengukur kesalahan kuadrat rata-rata, MAE untuk mengukur kesalahan absolut rata-rata, Precision untuk menilai akurasi prediksi positif, dan Recall untuk mengevaluasi kemampuan model dalam menangkap kasus positif yang sebenarnya. Kode ini juga menampilkan grafik yang menunjukkan perbandingan performa RMSE antara data pelatihan dan validasi pada setiap epoch."
      ],
      "metadata": {
        "id": "sGDLkDdgfsMF"
      }
    },
    {
      "cell_type": "code",
      "source": [
        "#rekomendasi untuk pengguna\n",
        "user_id = data['user_id'].sample(1).iloc[0]\n",
        "user_encoder = user_to_user_encoded[user_id]\n",
        "movies_watched = data[data['user_id'] == user_id]['item_id'].tolist()\n",
        "\n",
        "not_watched = [item for item in item_ids if item not in movies_watched]\n",
        "not_watched_encoded = [[item_to_item_encoded[item]] for item in not_watched]\n",
        "user_movie_array = np.hstack(([[user_encoder]] * len(not_watched), not_watched_encoded))\n",
        "\n",
        "ratings = model.predict(user_movie_array).flatten()\n",
        "top_indices = ratings.argsort()[-10:][::-1]\n",
        "recommended_item_ids = [item_encoded_to_item[i] for i in top_indices]\n",
        "\n",
        "print(f\"Rekomendasi untuk pengguna {user_id} top 10:\")\n",
        "for item in recommended_item_ids:\n",
        "    print(data[data['item_id'] == item]['title'].iloc[0])"
      ],
      "metadata": {
        "colab": {
          "base_uri": "https://localhost:8080/"
        },
        "id": "uoApkQ8MFiWf",
        "outputId": "c1b2b54e-f093-4590-ff80-5f1f7aa39649"
      },
      "execution_count": 31,
      "outputs": [
        {
          "output_type": "stream",
          "name": "stdout",
          "text": [
            "\u001b[1m51/51\u001b[0m \u001b[32m━━━━━━━━━━━━━━━━━━━━\u001b[0m\u001b[37m\u001b[0m \u001b[1m0s\u001b[0m 924us/step\n",
            "Rekomendasi untuk pengguna 761 top 10:\n",
            "Silence of the Lambs, The (1991)\n",
            "Birds, The (1963)\n",
            "Boot, Das (1981)\n",
            "Murder at 1600 (1997)\n",
            "U Turn (1997)\n",
            "Cop Land (1997)\n",
            "Mr. Holland's Opus (1995)\n",
            "Sense and Sensibility (1995)\n",
            "Some Folks Call It a Sling Blade (1993)\n",
            "While You Were Sleeping (1995)\n"
          ]
        }
      ]
    },
    {
      "cell_type": "markdown",
      "source": [
        "menampilkan hasil dari rekomendasi"
      ],
      "metadata": {
        "id": "2_D4_j6hfvgN"
      }
    }
  ]
}